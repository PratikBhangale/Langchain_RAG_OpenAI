{
 "cells": [
  {
   "cell_type": "code",
   "execution_count": 1,
   "metadata": {},
   "outputs": [],
   "source": [
    "# Imports\n",
    "from langchain import PromptTemplate\n",
    "import os\n",
    "import pprint"
   ]
  },
  {
   "cell_type": "code",
   "execution_count": 2,
   "metadata": {},
   "outputs": [
    {
     "data": {
      "text/plain": [
       "True"
      ]
     },
     "execution_count": 2,
     "metadata": {},
     "output_type": "execute_result"
    }
   ],
   "source": [
    "# Load API Keys\n",
    "from dotenv import load_dotenv\n",
    "load_dotenv()"
   ]
  },
  {
   "cell_type": "code",
   "execution_count": 3,
   "metadata": {},
   "outputs": [],
   "source": [
    "# Creating Wikipedia tool\n",
    "\n",
    "from langchain_community.tools import WikipediaQueryRun\n",
    "from langchain_community.utilities import WikipediaAPIWrapper\n",
    "api_wrapper=WikipediaAPIWrapper(top_k_results=1,doc_content_chars_max=200)\n",
    "wiki=WikipediaQueryRun(api_wrapper=api_wrapper)"
   ]
  },
  {
   "cell_type": "code",
   "execution_count": 4,
   "metadata": {},
   "outputs": [],
   "source": [
    "# Creating Tavily tool\n",
    "\n",
    "from langchain_community.tools.tavily_search import TavilySearchResults\n",
    "os.environ[\"TAVILY_API_KEY\"]=os.getenv(\"TAVILY_API_KEY\")\n",
    "web_search_tool = TavilySearchResults(k=3)"
   ]
  },
  {
   "cell_type": "code",
   "execution_count": 5,
   "metadata": {},
   "outputs": [],
   "source": [
    "# Creating Web Page retrival tool\n",
    "\n",
    "from langchain_community.document_loaders import WebBaseLoader\n",
    "from langchain_community.vectorstores import FAISS\n",
    "# from langchain_openai import OpenAIEmbeddings\n",
    "from langchain_text_splitters import RecursiveCharacterTextSplitter\n",
    "from langchain_community.embeddings import OllamaEmbeddings\n",
    "\n",
    "loader=WebBaseLoader(\"https://docs.smith.langchain.com/\")\n",
    "docs=loader.load()\n",
    "documents=RecursiveCharacterTextSplitter(chunk_size=1000,chunk_overlap=200).split_documents(docs)\n",
    "vectordb=FAISS.from_documents(documents,OllamaEmbeddings(model=\"mxbai-embed-large\"))\n",
    "retriever=vectordb.as_retriever()\n",
    "\n",
    "from langchain.tools.retriever import create_retriever_tool\n",
    "retriever_tool=create_retriever_tool(retriever,\"langsmith_search\",\n",
    "                      \"Search for information about LangSmith. For any questions about LangSmith, you must use this tool!\")"
   ]
  },
  {
   "cell_type": "code",
   "execution_count": 6,
   "metadata": {},
   "outputs": [],
   "source": [
    "# Creating a pdf retrival tool.\n",
    "from langchain_community.vectorstores import FAISS\n",
    "from langchain_community.document_loaders import PyPDFLoader\n",
    "\n",
    "loader = PyPDFLoader('Pratiks March Resume.pdf')\n",
    "docs.extend(loader.load())\n",
    "text_splitter = RecursiveCharacterTextSplitter(chunk_size=1000, chunk_overlap=200)\n",
    "final_documents = text_splitter.split_documents(docs)\n",
    "pdf_vectors = FAISS.from_documents(final_documents, OllamaEmbeddings(model=\"mxbai-embed-large\"))\n",
    "pdf_retriever=pdf_vectors.as_retriever()\n",
    "\n",
    "from langchain.tools.retriever import create_retriever_tool\n",
    "pdf_retriever_tool=create_retriever_tool(pdf_retriever,\"pratik_resume_search\",\n",
    "                      \"Search for information about Pratik Bhangale. For any questions about Pratik, you must use this tool!\")\n"
   ]
  },
  {
   "cell_type": "code",
   "execution_count": 7,
   "metadata": {},
   "outputs": [],
   "source": [
    "# Creating Arxiv tool\n",
    "\n",
    "from langchain_community.utilities import ArxivAPIWrapper\n",
    "from langchain_community.tools import ArxivQueryRun\n",
    "\n",
    "arxiv_wrapper=ArxivAPIWrapper(top_k_results=1, doc_content_chars_max=200)\n",
    "arxiv=ArxivQueryRun(api_wrapper=arxiv_wrapper)"
   ]
  },
  {
   "cell_type": "markdown",
   "metadata": {},
   "source": [
    "Tools are Wikipedia, Arxiv, Duckduckgo and Website Retriver"
   ]
  },
  {
   "cell_type": "code",
   "execution_count": 8,
   "metadata": {},
   "outputs": [
    {
     "name": "stdout",
     "output_type": "stream",
     "text": [
      "[WikipediaQueryRun(api_wrapper=WikipediaAPIWrapper(wiki_client=<module 'wikipedia' from 'c:\\\\Users\\\\prati\\\\anaconda3\\\\envs\\\\YTENV\\\\Lib\\\\site-packages\\\\wikipedia\\\\__init__.py'>, top_k_results=1, lang='en', load_all_available_meta=False, doc_content_chars_max=200)), ArxivQueryRun(api_wrapper=ArxivAPIWrapper(arxiv_search=<class 'arxiv.Search'>, arxiv_exceptions=(<class 'arxiv.ArxivError'>, <class 'arxiv.UnexpectedEmptyPageError'>, <class 'arxiv.HTTPError'>), top_k_results=1, ARXIV_MAX_QUERY_LENGTH=300, continue_on_failure=False, load_max_docs=100, load_all_available_meta=False, doc_content_chars_max=200, arxiv_result=<class 'arxiv.Result'>)), Tool(name='langsmith_search', description='Search for information about LangSmith. For any questions about LangSmith, you must use this tool!', args_schema=<class 'langchain_core.tools.RetrieverInput'>, func=functools.partial(<function _get_relevant_documents at 0x000002BB856742C0>, retriever=VectorStoreRetriever(tags=['FAISS', 'OllamaEmbeddings'], vectorstore=<langchain_community.vectorstores.faiss.FAISS object at 0x000002BBFD5B5BE0>), document_prompt=PromptTemplate(input_variables=['page_content'], template='{page_content}'), document_separator='\\n\\n'), coroutine=functools.partial(<function _aget_relevant_documents at 0x000002BB85674720>, retriever=VectorStoreRetriever(tags=['FAISS', 'OllamaEmbeddings'], vectorstore=<langchain_community.vectorstores.faiss.FAISS object at 0x000002BBFD5B5BE0>), document_prompt=PromptTemplate(input_variables=['page_content'], template='{page_content}'), document_separator='\\n\\n')), TavilySearchResults(), Tool(name='pratik_resume_search', description='Search for information about Pratik Bhangale. For any questions about Pratik, you must use this tool!', args_schema=<class 'langchain_core.tools.RetrieverInput'>, func=functools.partial(<function _get_relevant_documents at 0x000002BB856742C0>, retriever=VectorStoreRetriever(tags=['FAISS', 'OllamaEmbeddings'], vectorstore=<langchain_community.vectorstores.faiss.FAISS object at 0x000002BB85941880>), document_prompt=PromptTemplate(input_variables=['page_content'], template='{page_content}'), document_separator='\\n\\n'), coroutine=functools.partial(<function _aget_relevant_documents at 0x000002BB85674720>, retriever=VectorStoreRetriever(tags=['FAISS', 'OllamaEmbeddings'], vectorstore=<langchain_community.vectorstores.faiss.FAISS object at 0x000002BB85941880>), document_prompt=PromptTemplate(input_variables=['page_content'], template='{page_content}'), document_separator='\\n\\n'))]\n"
     ]
    }
   ],
   "source": [
    "tools=[wiki,arxiv,retriever_tool, web_search_tool, pdf_retriever_tool]\n",
    "print(tools)"
   ]
  },
  {
   "cell_type": "code",
   "execution_count": 9,
   "metadata": {},
   "outputs": [],
   "source": [
    "# Importing the Model and Prompt\n",
    "from langchain_openai import ChatOpenAI\n",
    "import os\n",
    "os.environ['OPENAI_API_KEY']=os.getenv(\"OPENAI_API_KEY\")\n",
    "\n",
    "\n",
    "llm = ChatOpenAI(model=\"gpt-3.5-turbo-0125\", temperature=0)"
   ]
  },
  {
   "cell_type": "code",
   "execution_count": 10,
   "metadata": {},
   "outputs": [
    {
     "data": {
      "text/plain": [
       "[SystemMessagePromptTemplate(prompt=PromptTemplate(input_variables=[], template='You are a helpful assistant')),\n",
       " MessagesPlaceholder(variable_name='chat_history', optional=True),\n",
       " HumanMessagePromptTemplate(prompt=PromptTemplate(input_variables=['input'], template='{input}')),\n",
       " MessagesPlaceholder(variable_name='agent_scratchpad')]"
      ]
     },
     "execution_count": 10,
     "metadata": {},
     "output_type": "execute_result"
    }
   ],
   "source": [
    "from langchain import hub\n",
    "# Get the prompt to use - you can modify this!\n",
    "prompt = hub.pull(\"hwchase17/openai-functions-agent\")\n",
    "prompt.messages"
   ]
  },
  {
   "cell_type": "code",
   "execution_count": 11,
   "metadata": {},
   "outputs": [
    {
     "name": "stdout",
     "output_type": "stream",
     "text": [
      "<class 'langchain_core.runnables.base.RunnableSequence'>\n"
     ]
    }
   ],
   "source": [
    "# Creating the agent\n",
    "\n",
    "from langchain.agents import create_openai_tools_agent\n",
    "agent=create_openai_tools_agent(llm,tools,prompt)\n",
    "print(type(agent))"
   ]
  },
  {
   "cell_type": "code",
   "execution_count": 12,
   "metadata": {},
   "outputs": [
    {
     "name": "stdout",
     "output_type": "stream",
     "text": [
      "<class 'langchain.agents.agent.AgentExecutor'>\n"
     ]
    }
   ],
   "source": [
    "# Creating the agent Executor\n",
    "\n",
    "from langchain.agents import AgentExecutor\n",
    "agent_executor=AgentExecutor(agent=agent,tools=tools,verbose=True)\n",
    "print(type(agent_executor))"
   ]
  },
  {
   "cell_type": "code",
   "execution_count": 13,
   "metadata": {},
   "outputs": [
    {
     "name": "stdout",
     "output_type": "stream",
     "text": [
      "\n",
      "\n",
      "\u001b[1m> Entering new AgentExecutor chain...\u001b[0m\n",
      "\u001b[32;1m\u001b[1;3m\n",
      "Invoking: `arxiv` with `{'query': 'LLMs'}`\n",
      "\n",
      "\n",
      "\u001b[0m\u001b[33;1m\u001b[1;3mPublished: 2024-01-08\n",
      "Title: A Survey of Large Language Models for Code: Evolution, Benchmarking, and Future Trends\n",
      "Authors: Zibin Zheng, Kaiwen Ning, Yanlin Wang, Jingwen Zhang, Dewu Zheng, Mingxi Ye\u001b[0m\u001b[32;1m\u001b[1;3mOne of the best research papers on Large Language Models (LLMs) is titled \"A Survey of Large Language Models for Code: Evolution, Benchmarking, and Future Trends\" by Zibin Zheng, Kaiwen Ning, Yanlin Wang, Jingwen Zhang, Dewu Zheng, and Mingxi Ye. This paper provides insights into the evolution, benchmarking, and future trends of LLMs for code.\u001b[0m\n",
      "\n",
      "\u001b[1m> Finished chain.\u001b[0m\n",
      "('One of the best research papers on Large Language Models (LLMs) is titled \"A '\n",
      " 'Survey of Large Language Models for Code: Evolution, Benchmarking, and '\n",
      " 'Future Trends\" by Zibin Zheng, Kaiwen Ning, Yanlin Wang, Jingwen Zhang, Dewu '\n",
      " 'Zheng, and Mingxi Ye. This paper provides insights into the evolution, '\n",
      " 'benchmarking, and future trends of LLMs for code.')\n"
     ]
    }
   ],
   "source": [
    "# Asking questions using the invoke method.\n",
    "response = agent_executor.invoke({\"input\":\"What are the best research papers on LLMs?\"})\n",
    "pprint.pprint(response['output'])"
   ]
  },
  {
   "cell_type": "code",
   "execution_count": 14,
   "metadata": {},
   "outputs": [
    {
     "name": "stdout",
     "output_type": "stream",
     "text": [
      "\n",
      "\n",
      "\u001b[1m> Entering new AgentExecutor chain...\u001b[0m\n",
      "\u001b[32;1m\u001b[1;3m\n",
      "Invoking: `tavily_search_results_json` with `{'query': 'latest news'}`\n",
      "\n",
      "\n",
      "\u001b[0m\u001b[36;1m\u001b[1;3m[{'url': 'https://www.nbcnews.com/', 'content': \"judge asks in granting bail\\nAsian America\\nBrooklyn woman arrested after allegedly throwing hot coffee at a man in a Palestinian scarf\\nU.S. news\\nMichigan police make arrest in the disappearance of a woman missing since 2021\\nAsian America\\nBrooklyn woman arrested after allegedly throwing hot coffee at a man in a Palestinian scarf\\nU.S. news\\nMichigan police make arrest in the disappearance of a woman missing since 2021\\nHealth\\nHealth news\\nMysterious dog respiratory illness may be caused by a new type of bacterial infection, researchers say\\nCoronavirus\\nFour more free Covid tests will be available to U.S. households\\nHealth news\\nThis type of belly fat is linked to increased risk of Alzheimer's, research finds\\nHealth news\\nNew weight loss drugs change how people think of Thanksgiving and other holiday meals\\nHealth news\\nDeadly listeria outbreak linked to whole peaches, nectarines and plums\\nHealth news\\nNew weight loss drugs change how people think of Thanksgiving and other holiday meals\\nHealth news\\nDeadly listeria outbreak linked to whole peaches, nectarines and plums\\nPop culture\\nCulture & Trends\\nComedian Matt Rife responds to Netflix special backlash with link to ‘special needs helmets’\\nU.S. news\\nA stampede, shooting and bodyguard brawls: How Sean Combs' legal troubles have played out\\nOUT News\\nAntoni Porowski and fiancé Kevin Harrington split 1 year after getting engaged\\nAsian America\\nGroom secretly learned Korean for over a year to surprise wife and family at wedding\\nCulture & Trends\\n'We just had to do it': Bradley Cooper speaks out about prosthetic nose controversy in 'Maestro'\\nAsian America\\nGroom secretly learned Korean for over a year to surprise wife and family at wedding\\nCulture & Trends\\n'We just had to do it': Bradley Cooper speaks out about prosthetic nose controversy in 'Maestro'\\nBusiness, Tech & Media\\nEXCLUSIVE\\nDiageo cites Diddy rape claims in renewed push to keep him out of tequila ads\\n#MeToo Reckoning\\nDiddy’s companies named in suit accusing an ex-Bad Boy president of sexual assault\\nTech News\\nWith X under fire, Elon Musk digs in and finds support from conservatives\\nTech News\\nSam Altman returns as OpenAI CEO after days of infighting at AI startup\\nU.S. news\\nHow Formula One accidentally helped Las Vegas workers land the 'best contract ever'\\nTech News\\nSam Altman returns as OpenAI CEO after days of infighting at AI startup\\nU.S. news\\nHow Formula One accidentally helped Las Vegas workers land the 'best contract ever'\\nNBC OUT\\nOUT News\\nAntoni Porowski and fiancé Kevin Harrington split 1 year after getting engaged\\nOUT Pop Culture\\nIn 'The Dads,' men bond over fishing and their love for their transgender kids\\nOUT Politics and Policy\\nTeachers and students grapple with fears and confusion about new laws restricting pronoun use\\nGay bar druggings\\nVictims of the deadly druggings that terrorized NYC's gay bars are haunted by unknowns\\nAsian America\\nCulture & Trends\\nNetflix’s ‘Squid Game: The Challenge’ turns dystopian drama into real-life competition — minus the death\\nAsian America\\nThanksgiving fusion dishes have become a way for Asian Americans to share their cultures with others\\nImmigration\\nMore asylum claims, illegal crossings along U.S.-Canada border, despite the dangers\\nAsian America\\nBrooklyn woman arrested after allegedly throwing hot coffee at a man in a Palestinian scarf\\nNBCBLK\\nNBCBLK\\n Profile\\nSections\\ntv\\nFeatured\\nMore From NBC\\nFollow NBC News\\nnews Alerts\\nThere are no new alerts at this time\\nHostage release and Gaza truce to start Friday, Qatar says\\nLIVEAl-Shifa Hospital director arrested by Israeli forces\\nLIVEAl-Shifa Hospital director arrested by Israeli forces\\nHostage deal exposes tensions between Israel’s far-right and hostage families\\nGazans welcome deal to pause fighting but dread what may come afterward\\nFringe proposal to displace Palestinians draws condemnation and triggers past trauma\\nOne of the only places that can claim to host the First Thanksgiving rejects the label\\nOne of the only places that can claim to host the First Thanksgiving rejects the label\\nNew York City Mayor Eric Adams accused of sexually assaulting a colleague in 1993\\nNew York City Mayor Eric Adams accused of sexually assaulting a colleague in 1993\\nSean 'Diddy' Combs accused of drugging, sexually assaulting woman when she was in college\\nSean 'Diddy' Combs accused of drugging, sexually assaulting woman when she was in college\\nNetflix’s ‘Squid Game: The Challenge’ turns dystopian drama into real-life competition — minus the death\\nChinese hospitals ‘overwhelmed with sick children’ after surge in respiratory illness\\nChinese hospitals ‘overwhelmed with sick children’ after surge in respiratory illness\\nFor teen girls victimized by ‘deepfake’ nude photos, there are few pathways to recourse\\nFor teen girls victimized by ‘deepfake’ nude photos, there are few pathways to recourse\\nTrump rages about judge and law clerk while gag order is paused in New York fraud trial\\nTrump rages about judge and law clerk while gag order is paused in New York fraud trial\\nLong-awaited hostage deal set to move ahead\\nLong-awaited hostage deal set to move ahead\\nBlack Friday\\nThe best Black Friday deals on Amazon\\nBlack Friday\\nThe best early Black Friday deals to shop right now\\nLuggage\\n8 highly rated work totes for commuting with ease\\nBlack Friday\\nThe best Black Friday deals at Target to shop right now\\nBlack Friday\\nThe best Walmart Black Friday deals to shop right now\\n The best Walmart Black Friday deals to shop right now\\nCaptives of Cannabis Part II: Mass Murder, Migrants & Money Laundering\\nLatest News\\nHead of security for sons of 'El Chapo' arrested in Mexico, sought for extradition\\nAlabama priest who fled to Italy with teen he later married is expected to be defrocked\\nSean 'Diddy' Combs accused of drugging, sexually assaulting woman when she was in college\\nHostage deal exposes tensions between Israel’s far-right and hostage families\\nNew York City Mayor Eric Adams accused of sexually assaulting a colleague in 1993\\n'Stop the rancor': Biden calls for national unity on Thanksgiving Day\\nTrump rages about judge and law clerk while gag order is paused in New York fraud trial\\nBatting cage accident at Georgia high school leaves a player in a coma\\nChinese hospitals ‘overwhelmed with sick children’ after surge in respiratory illness\\nNetflix’s ‘Squid Game: The Challenge’ turns dystopian drama into real-life competition — minus the death\\nFor teen girls victimized by ‘deepfake’ nude photos, there are few pathways to recourse\\nAs holiday shopping begins, Black business owners hope shoppers don’t forget them\\nGerman police raid homes of far-right Reich Citizens group\\nMacy’s Thanksgiving Day Parade recap: All the floats, performances and more\\nOne of the only places that can claim to host the First Thanksgiving rejects the label\\nThis Afro Latina actor touts the power behind journaling\\nThanksgiving travelers told to 'be nice' as all-time passenger record set to be broken\\nSmall Kentucky town urged to evacuate after train derails, spilling chemicals\\nIn a shock for Europe, anti-Islam populist Geert Wilders records a massive win in Dutch elections\\nGaza hostage release and truce to start Friday, Qatar says\\nUC Berkeley men's basketball player confronts fan who allegedly called him a 'terrorist'\\nAustralia has too many sheep — and farmers are giving them away for free\\nCharleston, South Carolina, elects its first Republican mayor since Reconstruction Era\\nNorth Korea says it is suspending military pact with South\\nBiden and Harris to attend services for Rosalynn Carter in Georgia\\nWhat causes skin to itch? Remembering Rosalynn Carter, former first lady and tireless humanitarian\\nTop videos\\nNightly News\\nLong-awaited hostage deal set to move ahead\\nNightly News\\nIsraeli military arrests Al-Shifa Hospital director, 200 patients too sick to evacuate\\nNightly News\\nAuthorities looking into airline incidents amid Thanksgiving travel rush\\nNightly News\\nFormer Obama advisor caught on video berating NYC street vendor\\nMost popular\\nTrump investigations\\n'Deluge' of threats against judge and law clerk in Trump’s civil fraud trial are detailed in new court filing\\nCelebrity\\nCuba Gooding Jr. faces 2 sexual assault lawsuits in New York\\nU.S. news\\nHusband charged with murder more than two years after his wife vanished in Michigan\\nLive Updates\\nMacy’s As holiday shopping begins, Black business owners hope shoppers don’t forget them\\n#MeToo Reckoning\\nDiddy’s companies named in suit accusing an ex-Bad Boy president of sexual assault\\nNBCBLK\\nAlabama A&M will lead bands in Macy’s Thanksgiving Day Parade\\nNBCBLK\\nNFL disability program leaves retired Saints tight end hurting and angry\\nLatino\\nLatino\\nBrazilian officials investigating company behind Taylor Swift shows in Rio de Janeiro after fan's death\\nCulture & Trends\\nThis Afro Latina actor touts the power behind journaling\\nCulture & Trends\\nPuerto Ricans are pushing to make these unique slang words officially Spanish\\nImmigration\\nMore asylum claims, illegal crossings along U.S.-Canada border, despite the dangers\\nYour personalized news, including saved and local stories\\nAccess these features with your free account.\\n\"}, {'url': 'https://abcnews.go.com/', 'content': 'ABC News\\nVideo\\nLive\\nShows\\nElection 2024\\n538\\nStream on\\nRainbow bridge explosion\\nLive Updates:Israel-Gaza conflict\\nLive Updates: Black Friday\\nRSV protection\\nFire survivors\\' plight\\nPolice bust international drug mule ring in Brazil\\nArgentina\\'s labor leaders warn of resistance\\nChemical spill following Kentucky train derailment\\nFrance to contribute 15,000 soldiers to Olympics\\nWest Africa responds to huge diphtheria outbreaks\\nMyanmar says drone attack destroyed 120 trucks\\nCrane operator rescued man from burning high-rise\\nOxyContin settlement plan to go to Supreme Court\\n5-year-old girl injured after Dublin knife attack\\nHezbollah fires rockets at Israel after airstrike\\nBatting cage accident leaves high schooler in coma\\nMan stabbed to death at Minnesota bus stop\\nOfficials called the negotiations an \"extremely excruciating process. Dems propose amendment ensuring abortion access after winning General Assembly\\nMeta policy allowing 2020 election-denial ads risks distrust, extremism, experts say\\nMore News\\nNew Zealand\\'s new government promises tax cuts\\nUkraine says 3 civilians killed by Russia shelling\\nOil and gas sector must reduce to save climate\\nElection winner Wilders known as the Dutch Trump\\nChinese illness, pneumonia rise sparks WHO concern\\nS. Korea: Russia helped North launch spy satellite\\nAbortions rates in US increased 5% in 2021: CDC\\nAnimal welfare advocates file lawsuit in Wisconsin\\nGerman police raid properties of Hamas supporters\\nUS electric vehicle sales to hit record this year\\nMore News\\n10 homes destroyed by a wildfire in Perth\\nWhat does the future of wild horses look like?\\n In Case You Missed It\\nIn Case You Missed It\\nWisconsin couple adopts foster daughter after 3 years\\n\\'Dancing with the Stars\\' recap: Harry Jowsey eliminated during Taylor Swift week\\nBone marrow donor and recipient meet after lifesaving transplant\\nSee Eddie Murphy as Axel Foley in 1st look at 4th \\'Beverly Hills Cop\\' film\\nBindi Irwin shares adorable moment with 2-year-old daughter Grace: Watch here\\nClimate change could soon make these staple Thanksgiving dishes more scarce\\n\\'Love Is Blind\\' stars Bliss and Zack expecting 1st child together\\nMiley Cyrus congratulates godmother Dolly Parton on \\'Rockstar\\' album: See video\\nPrincess Kate steps out in ravishing red monochromatic look\\nABC News\\nSECTIONS\\nSHOWS\\nTOOLS\\nABOUT Trending video\\nPolitics\\nPolitics\\nRepublican candidates push to topple Trump in Iowa in final weeks before caucus\\nTrump fraud trial updates: Judge, NY AG argue for limited gag order in court filings\\nRaskin, other House Democrats pressure Biden to do more to protect children in Gaza\\nJudge declines to jail Trump co-defendant in Georgia election interference case\\nHouse Republicans subpoena prosecutor in Hunter Biden case\\nDemocratic Rep. Anna Eshoo announces retirement after three decades in Congress\\nWhy Biden should be thankful it\\'s not 2024 yet\\nDemocratic senators call on Biden to press Israel to allow more Gaza aid\\nVa. Senior Israeli official\\nUrgent preparations underway for swap of Hamas hostages and 150 jailed Palestinians\\nEscalating tensions in the Middle East\\nIsraeli military launches assault before expected 4-day cease-fire\\nAbout 50 hostages expected to be released by Hamas, including 3 Americans\\nIsrael and Hamas agree on deal to free at least 50 hostages\\nJake Sullivan said he believes 3 American hostages will be part of deal with Hamas\\nDefining the words and actions surrounding the Israel-Hamas war\\nRetracing the horror of Israel\\'s \\'Black Sabbath\\'\\nFather of missing Israeli-American IDF soldier: \\'Pain is an understatement\\'\\n'}, {'url': 'https://apnews.com/', 'content': 'In a political shift to the far right, anti-Islam populist Geert Wilders wins big in Dutch election\\nEurope’s far-right populists buoyed by Wilders’ win in Netherlands, hoping the best is yet to come\\nDaniel Noboa is sworn in as Ecuador’s president, inheriting the leadership of a country on edge\\nOn the cusp of climate talks, UN chief Guterres visits crucial Antarctica\\nBUSINESS\\nOpenAI brings back Sam Altman as CEO just days after his firing unleashed chaos\\nThis week’s turmoil with ChatGPT-maker OpenAI has heightened trust concerns in the AI world\\nTo save the climate, the oil and gas sector must slash planet-warming operations, report says\\nArgentina’s labor leaders warn of resistance to President-elect Milei’s radical reforms\\nSCIENCE\\nPeru lost more than half of its glacier surface in just over half a century, scientists say\\nSearch is on for pipeline leak after as much as 1.1 million gallons of oil sullies Gulf of Mexico\\nNew hardiness zone map will help US gardeners keep pace with climate change\\nSpaceX launched its giant new rocket but explosions end the second test flight\\nLIFESTYLE\\nEdmunds picks the five best cars for under $30,000\\nFrance remains ‘le grand fromage’ in the European Union, and Camembert remains in a wooden box\\nHow to avoid the worst 4 hours of holiday travel\\nGet ahead this Thanksgiving by setting the table a day or two early\\nNow Playing\\nMovie Review: Emerald Fennell chronicles a promising young man in audacious, shock-filled ‘Saltburn’\\nMovie Review: Disney’s musical fairy tale ‘Wish’ is beautiful, but lacking magic\\nMovie Review: ‘Fallen Leaves’ is deadpan nirvana\\nReview: In Ridley Scott’s ‘Napoleon,’ the emperor has no clothes but plenty of ego\\nMovie Review: Emotional complexity, melodramatic wit and masterful acting in ‘May December’\\nMovie Review: Taika Waititi’s ‘Next Goal Wins’ is a sweet, frothy diversion but no knee slide\\nReview: The Hunger Games return in ‘The Ballad of Songbirds and Snakes,’ with the odds in its favor\\nMovie Review: Nicolas Cage finds fame to be highly overrated in chillingly funny ‘Dream Scenario’\\nMovie Review: Iman Vellani is a scene-stealer in low-stakes ‘The Marvels’\\nMovie Review: In David Fincher’s ‘The Killer,’ an assassin hides in plain sight\\nThe Protein Problem\\nHow ‘lab-grown’ meat cultivated from animal cells could offer another sustainable food option\\nPlant-based products haven’t converted US meat-eaters. The US has thwarted a plot to kill a Sikh separatist leader, an AP source says\\nNearly half of Americans think the US is spending too much on Ukraine aid, an AP-NORC poll says\\nBiden’s plan would raise salaries for Head Start teachers but could leave fewer spots for kids\\nEntertainment\\nThe ‘Oppenheimer’ creative team take you behind the scenes of the film’s key moments\\nWhat’s streaming now: ‘Oppenheimer,’ Adam Sandler as a lizard and celebs dancing to Taylor Swift\\nFill your holiday stocking with Cher, Ella Fitzgerald, Brandy, Andrea Bocelli and more\\nStudent Academy Awards — a launching pad into Hollywood — celebrate 50 years\\nSPORTS\\nBland, Prescott help Cowboys to 13th straight home win over Commanders on Thanksgiving\\nBlackhawks’ Taylor Hall is expected to miss the rest of the season with a right knee injury\\nLSU star Angel Reese has not been seen with the Tigers in the Cayman Islands\\nEddie Merrins, the ‘Little Pro’ who had an enormous influence on golf in LA, dies at 91\\nUS News\\nResidents of Kentucky town can return home after crews extinguish derailment fire\\nOfficials begin clearing debris while 3 remain missing in Alaska landslide that left 3 dead\\nOxyContin maker’s settlement plan divides victims of opioid crisis. When the battles stop, many fear it will remain uninhabitable\\nHundreds of German police raid properties of Hamas supporters in Berlin and across the country\\nHow the hostage deal came about: Negotiations stumbled, but persistence finally won out\\nPortraits of those held hostage after Hamas attack on Israel\\nDutch election winner Geert Wilders is an anti-Islam firebrand known as the Dutch Donald Trump\\nWoman alleges Jamie Foxx sexually assaulted her at New York bar, actor says it ‘never happened’\\nFBI ends investigation of car wreck at Niagara Falls bridge, no indication of terrorism\\nRetailers are ready to kick off Black Friday just as shoppers pull back on spending\\nMacy’s Thanksgiving Day Parade sends Snoopy and SpongeBob soaring as Cher entertains NYC\\nViolent clashes break out in Dublin after knife attack that injured 3 children, one seriously\\nNicaragua’s Miss Universe title win exposes deep political divide in the Central American country\\nSusan Sarandon and Melissa Barrera dropped from Hollywood companies after comments on Israel-Hamas war\\nSeveral more children sickened by fruit pouches tainted with lead, FDA says\\nLatest videos\\nPhiladelphia marks Thanksgiving with parade\\nPhiladelphia held its annual Thanksgiving Day parade on Thursday. Florida Atlantic defeats Butler 91-86\\nBroncos nickel back Ja’Quan McMillian is making a name for himself even if it’s being mispronounced\\nSt. Rose scores 26, Princeton rolls to a 77-63 win over No. 22 Oklahoma women in Florida\\nFormer St. Louis alderman in fraud case also charged with lying to police\\nBrazilian police bust international drug mule ring in Sao Paulo\\nNorris scores 20, Loyola Chicago closes on 14-2 run to beat Boston College 71-68\\nBusiness Highlights: Retailers prepare for Black Friday; world stocks mixed\\nNew Mexico Supreme Court reprimands judge who advised prosecutors in case involving his daughter\\nNo. 3 Colorado holds off Cincinnati 77-60 to open Paradise Jam tournament\\nThursday’s Transactions\\nIsaacs banks in go-ahead shot with 0.8 seconds left and Texas Tech beats UNI in Battle 4 Atlantis\\nColeman has 24 points, No. 12 Texas A&M beats Penn State 89-77 in ESPN Events Invitational\\nWest Africa responds to huge diphtheria outbreaks by targeting unvaccinated populations\\n This rancher thinks she can change that\\nWhat pastoralists in Senegal and Mongolia can teach us about adapting to a changing environment\\nSaving Brazil’s rainforest starts with helping people and businesses make a living off cleared land\\nMore from the project\\nGardening\\nA dozen fresh-picked holiday gift ideas for gardeners\\nIf it seems like there are a lot of acorns this fall, you might be seeing a ‘mast’ year\\nA slow transition to winter keeps houseplants healthy\\nThere’s a movement to ‘leave the leaves’ in gardens and lawns.'}, {'url': 'https://www.nytimes.com/', 'content': '5 min read\\nEzra Klein\\nThe Unsettling Lesson of the OpenAI Mess\\n7 min read\\nThomas B. Edsall\\nThe Roots of Trump’s Rage\\n10 min read\\nBernie Sanders\\nBernie Sanders: Justice for the Palestinians and Security for Israel\\n6 min read\\nDavid Brooks on Staying Humane in Inhumane Times\\n6 min listen\\nThe Labels We Attach to Political Beliefs\\n4 min read\\nKelly Barnhill\\nWhat Does It Mean to Be a Writer When My Words Have Vanished?\\n 4 min read\\nFrank Bruni\\nCan Biden’s Family Talk Turkey?\\n9 min read\\nDavid Brooks\\nThe Fight for the Soul of A.I.\\n5 min read\\nThomas L. Friedman\\nThe Rescuers\\n16 min read\\nNicholas Kristof\\nHere’s How Houston Is Fighting Homelessness — and Winning\\n11 min read\\nDayton Duncan\\n Here’s how to maximize the benefits.\\n4 min read\\nMichelle Cottle\\nWhat I’m Thankful for in Our Politics (You Read That Right)\\n5 min read\\nBinyamin Appelbaum and Peter Coy\\nWhy Is Everyone So Grumpy?\\n5 min read\\nMaureen Dowd\\nMy Brother’s Thanksgiving Lament\\n Spelling Bee\\nThe Mini Crossword\\nWordle\\nThe Crossword\\nVertex\\nConnections\\nSudoku\\nLetter Boxed\\nTiles\\nPuzzles, brain teasers, solving tips and more.\\n Spelling Bee\\nThe Mini Crossword\\nWordle\\nThe Crossword\\nVertex\\nConnections\\nSudoku\\nLetter Boxed\\nTiles\\nPuzzles, brain teasers, solving tips and more.\\n'}, {'url': 'https://www.cnn.com/', 'content': 'View the latest news and breaking news today for U.S., world, weather, entertainment, politics and health at CNN.com.'}]\u001b[0m\u001b[32;1m\u001b[1;3mHere are some of the latest news updates from different sources:\n",
      "\n",
      "1. [NBC News](https://www.nbcnews.com/):\n",
      "   - A judge grants bail and asks questions.\n",
      "   - Michigan police make an arrest in the disappearance of a woman missing since 2021.\n",
      "   - Health news includes updates on a mysterious dog respiratory illness and new weight loss drugs.\n",
      "   - Pop culture news covers comedian Matt Rife's response to backlash and more.\n",
      "\n",
      "2. [ABC News](https://abcnews.go.com/):\n",
      "   - Updates on the Israel-Gaza conflict and Black Friday.\n",
      "   - Argentina's labor leaders warn of resistance.\n",
      "   - OxyContin settlement plan to go to Supreme Court.\n",
      "   - SpaceX's giant new rocket launch and more.\n",
      "\n",
      "3. [AP News](https://apnews.com/):\n",
      "   - Anti-Islam populist Geert Wilders wins big in Dutch election.\n",
      "   - OpenAI brings back Sam Altman as CEO.\n",
      "   - Peru loses glacier surface, pipeline leak in Gulf of Mexico, and more.\n",
      "\n",
      "4. [The New York Times](https://www.nytimes.com/):\n",
      "   - Articles by Ezra Klein, Thomas B. Edsall, Bernie Sanders, and more on various topics.\n",
      "\n",
      "5. [CNN](https://www.cnn.com/):\n",
      "   - Latest news and breaking news today for U.S., world, weather, entertainment, politics, and health.\n",
      "\n",
      "You can visit these sources for more detailed information on the latest news.\u001b[0m\n",
      "\n",
      "\u001b[1m> Finished chain.\u001b[0m\n",
      "('Here are some of the latest news updates from different sources:\\n'\n",
      " '\\n'\n",
      " '1. [NBC News](https://www.nbcnews.com/):\\n'\n",
      " '   - A judge grants bail and asks questions.\\n'\n",
      " '   - Michigan police make an arrest in the disappearance of a woman missing '\n",
      " 'since 2021.\\n'\n",
      " '   - Health news includes updates on a mysterious dog respiratory illness '\n",
      " 'and new weight loss drugs.\\n'\n",
      " \"   - Pop culture news covers comedian Matt Rife's response to backlash and \"\n",
      " 'more.\\n'\n",
      " '\\n'\n",
      " '2. [ABC News](https://abcnews.go.com/):\\n'\n",
      " '   - Updates on the Israel-Gaza conflict and Black Friday.\\n'\n",
      " \"   - Argentina's labor leaders warn of resistance.\\n\"\n",
      " '   - OxyContin settlement plan to go to Supreme Court.\\n'\n",
      " \"   - SpaceX's giant new rocket launch and more.\\n\"\n",
      " '\\n'\n",
      " '3. [AP News](https://apnews.com/):\\n'\n",
      " '   - Anti-Islam populist Geert Wilders wins big in Dutch election.\\n'\n",
      " '   - OpenAI brings back Sam Altman as CEO.\\n'\n",
      " '   - Peru loses glacier surface, pipeline leak in Gulf of Mexico, and more.\\n'\n",
      " '\\n'\n",
      " '4. [The New York Times](https://www.nytimes.com/):\\n'\n",
      " '   - Articles by Ezra Klein, Thomas B. Edsall, Bernie Sanders, and more on '\n",
      " 'various topics.\\n'\n",
      " '\\n'\n",
      " '5. [CNN](https://www.cnn.com/):\\n'\n",
      " '   - Latest news and breaking news today for U.S., world, weather, '\n",
      " 'entertainment, politics, and health.\\n'\n",
      " '\\n'\n",
      " 'You can visit these sources for more detailed information on the latest '\n",
      " 'news.')\n"
     ]
    }
   ],
   "source": [
    "# Asking questions using the invoke method.\n",
    "response = agent_executor.invoke({\"input\":\"What is the latest news?\"})\n",
    "pprint.pprint(response['output'])"
   ]
  },
  {
   "cell_type": "code",
   "execution_count": 15,
   "metadata": {},
   "outputs": [
    {
     "name": "stdout",
     "output_type": "stream",
     "text": [
      "\n",
      "\n",
      "\u001b[1m> Entering new AgentExecutor chain...\u001b[0m\n",
      "\u001b[32;1m\u001b[1;3m\n",
      "Invoking: `wikipedia` with `{'query': 'Prime Minister of India'}`\n",
      "\n",
      "\n",
      "\u001b[0m\u001b[36;1m\u001b[1;3mPage: Prime Minister of India\n",
      "Summary: The prime minister of India (IAST: Bhārat kē Pradhānamantrī) is the head of government of the Republic of India. Executive authority is vested in the prime minis\u001b[0m\u001b[32;1m\u001b[1;3mThe Prime Minister of India is the head of government of the Republic of India. The current Prime Minister of India is Narendra Modi.\u001b[0m\n",
      "\n",
      "\u001b[1m> Finished chain.\u001b[0m\n",
      "('The Prime Minister of India is the head of government of the Republic of '\n",
      " 'India. The current Prime Minister of India is Narendra Modi.')\n"
     ]
    }
   ],
   "source": [
    "# Asking questions using the invoke method.\n",
    "response = agent_executor.invoke({\"input\":\"Who is the Prime minister of India?\"})\n",
    "pprint.pprint(response['output'])"
   ]
  },
  {
   "cell_type": "code",
   "execution_count": 16,
   "metadata": {},
   "outputs": [
    {
     "name": "stdout",
     "output_type": "stream",
     "text": [
      "\n",
      "\n",
      "\u001b[1m> Entering new AgentExecutor chain...\u001b[0m\n",
      "\u001b[32;1m\u001b[1;3m\n",
      "Invoking: `langsmith_search` with `{'query': 'Langchain'}`\n",
      "\n",
      "\n",
      "\u001b[0m\u001b[38;5;200m\u001b[1;3mGet started with LangSmith | 🦜️🛠️ LangSmith\n",
      "\n",
      "= traceable(async (user_input) => {    const result = await client.chat.completions.create({        messages: [{ role: \"user\", content: user_input }],        model: \"gpt-3.5-turbo\",    });    return result.choices[0].message.content;});await pipeline(\"Hello, world!\")// Out: Hello there! How can I assist you today?View a sample output trace.Learn more about tracing in the how-to guides.5. Run your first evaluation​Evaluation requires a system to test, data to serve as test cases, and optionally evaluators to grade the results. Here we use a built-in accuracy evaluator.PythonTypeScriptfrom langsmith import Clientfrom langsmith.evaluation import evaluateclient = Client()# Define dataset: these are your test casesdataset_name = \"Sample Dataset\"dataset = client.create_dataset(dataset_name, description=\"A sample dataset in LangSmith.\")client.create_examples(    inputs=[        {\"postfix\": \"to LangSmith\"},        {\"postfix\": \"to Evaluations in LangSmith\"},    ],    outputs=[\n",
      "\n",
      "score: run.outputs?.output === example?.outputs?.output,  };};await evaluate(  (input: { postfix: string }) => ({ output: `Welcome ${input.postfix}` }),  {    data: datasetName,    evaluators: [exactMatch],    metadata: {      version: \"1.0.0\",      revision_id: \"beta\",    },  });Learn more about evaluation in the how-to guides.Was this page helpful?You can leave detailed feedback on GitHub.NextTutorials1. Install LangSmith2. Create an API key3. Set up your environment4. Log your first trace5. Run your first evaluationCommunityDiscordTwitterGitHubDocs CodeLangSmith SDKPythonJS/TSMoreHomepageBlogLangChain Python DocsLangChain JS/TS DocsCopyright © 2024 LangChain, Inc.\n",
      "\n",
      "how to use traceable. See more on the Annotate code for tracing page.PythonTypeScriptimport openaifrom langsmith.wrappers import wrap_openaifrom langsmith import traceable# Auto-trace LLM calls in-contextclient = wrap_openai(openai.Client())@traceable # Auto-trace this functiondef pipeline(user_input: str):    result = client.chat.completions.create(        messages=[{\"role\": \"user\", \"content\": user_input}],        model=\"gpt-3.5-turbo\"    )    return result.choices[0].message.contentpipeline(\"Hello, world!\")# Out:  Hello there! How can I assist you today?import { OpenAI } from \"openai\";import { traceable } from \"langsmith/traceable\";import { wrapOpenAI } from \"langsmith/wrappers\";// Auto-trace LLM calls in-contextconst client = wrapOpenAI(new OpenAI());// Auto-trace this functionconst pipeline = traceable(async (user_input) => {    const result = await client.chat.completions.create({        messages: [{ role: \"user\", content: user_input }],        model: \"gpt-3.5-turbo\",    });\u001b[0m\u001b[32;1m\u001b[1;3mLangchain is a project by LangSmith, a company specializing in language technologies. Langchain is a Python library that provides tools for traceable and evaluatable machine learning models. It allows users to create datasets, examples, and evaluations in LangSmith. If you need more specific information about Langchain or have any other questions, feel free to ask!\u001b[0m\n",
      "\n",
      "\u001b[1m> Finished chain.\u001b[0m\n",
      "('Langchain is a project by LangSmith, a company specializing in language '\n",
      " 'technologies. Langchain is a Python library that provides tools for '\n",
      " 'traceable and evaluatable machine learning models. It allows users to create '\n",
      " 'datasets, examples, and evaluations in LangSmith. If you need more specific '\n",
      " 'information about Langchain or have any other questions, feel free to ask!')\n"
     ]
    }
   ],
   "source": [
    "# Asking questions using the invoke method.\n",
    "response = agent_executor.invoke({\"input\":\"What is Langchain?\"})\n",
    "pprint.pprint(response['output'])"
   ]
  },
  {
   "cell_type": "code",
   "execution_count": 17,
   "metadata": {},
   "outputs": [
    {
     "name": "stdout",
     "output_type": "stream",
     "text": [
      "\n",
      "\n",
      "\u001b[1m> Entering new AgentExecutor chain...\u001b[0m\n",
      "\u001b[32;1m\u001b[1;3m\n",
      "Invoking: `pratik_resume_search` with `{'query': 'skills'}`\n",
      "\n",
      "\n",
      "\u001b[0m\u001b[33;1m\u001b[1;3mGet started with LangSmith | 🦜️🛠️ LangSmith\n",
      "\n",
      "Datetime for project implementation.\n",
      "•Conducted a comprehensive study on 10 prominent clustering algorithms and em-\n",
      "ployed a systematic approach to implementing clustering algorithms involving steps\n",
      "such as data extraction, manipulation, skewness reduction, normalization, model cre-\n",
      "ation, and visualization.\n",
      "•Concluded that 3 main algorithms (Kmeans, Mini-Batch Kmeans, and Agglomerative\n",
      "clustering) are the most suitable for the given use-case based on visualization results.\n",
      "•Model Training /external-link-altJan. 2021\n",
      "Additional Experience And Awards\n",
      "Technical Team Member (Association of Computer Science and Engineering Students) (2020 - 2021): Conducted\n",
      "about 14 workshops and many technical treasure hunts for students in college. Certificate /external-link-alt\n",
      "Top 20 Participant in HAB59 National Hackathon (2021) Participated as an individual in the National HAB59 Hackathon\n",
      "and was ranked in the top 20 among hundreds of teams in India. Certificate /external-link-alt\n",
      "\n",
      "Projects\n",
      "Neural Network Implementation from Scratch in Python\n",
      "•Key Skills: Python programming, algorithm development, mathematical modeling, data\n",
      "visualization, machine learning fundamentals.\n",
      "•Designed and implemented a foundational neural network library from scratch, focusing\n",
      "on the core functionalities required for building and training neural networks.\n",
      "•Engineered a training algorithm supporting forward and backward propagation for op-\n",
      "timizing network weights and biases.\n",
      "•Library Link /external-link-altMarch 2024\n",
      "Calibrate (Smart Clothing)\n",
      "•Key Skills: Google Cloud, Kotlin, XML, Firebase, C++, Internet of Things.\n",
      "•Made a prototype of smart clothing consisting of 3 sensors (Heart-rate, ECG and 6 axis\n",
      "gyroscope), connected to a micro-controller.\n",
      "•The other half of my responsibilities included connecting the IOT device to the Google\n",
      "Cloud, using WiFi, and creating an Android app to view live analytics of the readings\n",
      "recorded by the device.\n",
      "\n",
      "= traceable(async (user_input) => {    const result = await client.chat.completions.create({        messages: [{ role: \"user\", content: user_input }],        model: \"gpt-3.5-turbo\",    });    return result.choices[0].message.content;});await pipeline(\"Hello, world!\")// Out: Hello there! How can I assist you today?View a sample output trace.Learn more about tracing in the how-to guides.5. Run your first evaluation​Evaluation requires a system to test, data to serve as test cases, and optionally evaluators to grade the results. Here we use a built-in accuracy evaluator.PythonTypeScriptfrom langsmith import Clientfrom langsmith.evaluation import evaluateclient = Client()# Define dataset: these are your test casesdataset_name = \"Sample Dataset\"dataset = client.create_dataset(dataset_name, description=\"A sample dataset in LangSmith.\")client.create_examples(    inputs=[        {\"postfix\": \"to LangSmith\"},        {\"postfix\": \"to Evaluations in LangSmith\"},    ],    outputs=[\u001b[0m\u001b[32;1m\u001b[1;3mPratik Bhangale has the following skills:\n",
      "\n",
      "1. Python programming\n",
      "2. Algorithm development\n",
      "3. Mathematical modeling\n",
      "4. Data visualization\n",
      "5. Machine learning fundamentals\n",
      "6. Google Cloud\n",
      "7. Kotlin\n",
      "8. XML\n",
      "9. Firebase\n",
      "10. C++\n",
      "11. Internet of Things\n",
      "\n",
      "These skills have been demonstrated through various projects and experiences.\u001b[0m\n",
      "\n",
      "\u001b[1m> Finished chain.\u001b[0m\n",
      "('Pratik Bhangale has the following skills:\\n'\n",
      " '\\n'\n",
      " '1. Python programming\\n'\n",
      " '2. Algorithm development\\n'\n",
      " '3. Mathematical modeling\\n'\n",
      " '4. Data visualization\\n'\n",
      " '5. Machine learning fundamentals\\n'\n",
      " '6. Google Cloud\\n'\n",
      " '7. Kotlin\\n'\n",
      " '8. XML\\n'\n",
      " '9. Firebase\\n'\n",
      " '10. C++\\n'\n",
      " '11. Internet of Things\\n'\n",
      " '\\n'\n",
      " 'These skills have been demonstrated through various projects and '\n",
      " 'experiences.')\n"
     ]
    }
   ],
   "source": [
    "# Asking questions using the invoke method.\n",
    "response = agent_executor.invoke({\"input\":\"What are the skills of Pratik Bhangale?\"})\n",
    "pprint.pprint(response['output'])"
   ]
  }
 ],
 "metadata": {
  "kernelspec": {
   "display_name": "YTENV",
   "language": "python",
   "name": "python3"
  },
  "language_info": {
   "codemirror_mode": {
    "name": "ipython",
    "version": 3
   },
   "file_extension": ".py",
   "mimetype": "text/x-python",
   "name": "python",
   "nbconvert_exporter": "python",
   "pygments_lexer": "ipython3",
   "version": "3.12.3"
  }
 },
 "nbformat": 4,
 "nbformat_minor": 2
}
